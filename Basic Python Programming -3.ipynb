{
 "cells": [
  {
   "cell_type": "markdown",
   "metadata": {},
   "source": [
    "1. Write a Python Program to Check if a Number is Positive, Negative or Zero?"
   ]
  },
  {
   "cell_type": "code",
   "execution_count": 1,
   "metadata": {},
   "outputs": [
    {
     "name": "stdout",
     "output_type": "stream",
     "text": [
      "Enter a number: -65\n",
      "the Entered Number is negative and the Number is -65\n"
     ]
    }
   ],
   "source": [
    "Number= int(input(\"Enter a number: \"))\n",
    "if Number>0:\n",
    "    print(f\"the Entered Number is Postive and the Number is {Number}\")\n",
    "elif Number==0:\n",
    "     print(f\"the Entered Number is ZERO\")\n",
    "else:\n",
    "   print(f\"the Entered Number is negative and the Number is {Number}\")"
   ]
  },
  {
   "cell_type": "markdown",
   "metadata": {},
   "source": [
    "2.Write a Python Program to Check if a Number is Odd or Even?"
   ]
  },
  {
   "cell_type": "code",
   "execution_count": 2,
   "metadata": {},
   "outputs": [
    {
     "name": "stdout",
     "output_type": "stream",
     "text": [
      "Enter a number: 32\n",
      "the Entered Number is even and the Number is 32\n"
     ]
    }
   ],
   "source": [
    "Number= int(input(\"Enter a number: \"))\n",
    "if Number%2==0:\n",
    "    print(f\"the Entered Number is even and the Number is {Number}\")\n",
    "elif Number%2!=0:\n",
    "     print(f\"the Entered Number is odd and the Number is {Number}\")\n",
    "else:\n",
    "     print(f\"the Entered Number is ZERO\")"
   ]
  },
  {
   "cell_type": "markdown",
   "metadata": {},
   "source": [
    "3.Write a Python Program to Check Leap Year?"
   ]
  },
  {
   "cell_type": "code",
   "execution_count": 3,
   "metadata": {},
   "outputs": [
    {
     "name": "stdout",
     "output_type": "stream",
     "text": [
      "Enter a Year: 2000\n",
      "the Entered Year is leap Year and Year is : 2000\n"
     ]
    }
   ],
   "source": [
    "Year= int(input(\"Enter a Year: \"))\n",
    "if (Year%4==0) and (Year%100==0) and (Year%400==0):\n",
    "    print(f\"the Entered Year is leap Year and Year is : {Year}\")\n",
    "else:\n",
    "    print(f\"the Entered Year is not a leap Year and Year is : {Year}\")"
   ]
  },
  {
   "cell_type": "markdown",
   "metadata": {},
   "source": [
    "4.Write a Python Program to Check Prime Number?"
   ]
  },
  {
   "cell_type": "code",
   "execution_count": 29,
   "metadata": {},
   "outputs": [
    {
     "name": "stdout",
     "output_type": "stream",
     "text": [
      "Enter a number: 30\n",
      "the Entered Number is not Prime and the  Entered Number is 30\n"
     ]
    }
   ],
   "source": [
    "Number= int(input(\"Enter a number: \"))\n",
    "if Number >1:\n",
    "    for i in range(2,Number):\n",
    "        if (Number % i) ==0 :\n",
    "            print(f\"the Entered Number is not Prime and the  Entered Number is {Number}\")\n",
    "            break \n",
    "    else:\n",
    "        print(f\"the Entered Number is  a  Prime and the  Entered Number is {Number}\")\n",
    "else:\n",
    "     print(f\"the Entered Number is  less than one and the  Entered Number is {Number}\")"
   ]
  },
  {
   "cell_type": "markdown",
   "metadata": {},
   "source": [
    " 5.Write a Python Program to Print all Prime Numbers in an Interval of 1-10000?"
   ]
  },
  {
   "cell_type": "code",
   "execution_count": 8,
   "metadata": {},
   "outputs": [
    {
     "name": "stdout",
     "output_type": "stream",
     "text": [
      "Enter a Upper_range number: 20\n",
      "Enter a Lower_range number: 2\n",
      " the prime number is 2\n",
      " the prime number is 3\n",
      " the prime number is 5\n",
      " the prime number is 7\n",
      " the prime number is 11\n",
      " the prime number is 13\n",
      " the prime number is 17\n",
      " the prime number is 19\n"
     ]
    }
   ],
   "source": [
    "Upper_range= int(input(\"Enter a Upper_range number: \"))\n",
    "Lower_range= int(input(\"Enter a Lower_range number: \"))\n",
    "\n",
    "for number in range(Lower_range,Upper_range+1):\n",
    "    if number>1:\n",
    "        for i in range(2,number):\n",
    "            if (number % i) ==0 :\n",
    "                break \n",
    "        else:\n",
    "                print(f\" the prime number is {number}\")\n"
   ]
  }
 ],
 "metadata": {
  "kernelspec": {
   "display_name": "Python 3",
   "language": "python",
   "name": "python3"
  },
  "language_info": {
   "codemirror_mode": {
    "name": "ipython",
    "version": 3
   },
   "file_extension": ".py",
   "mimetype": "text/x-python",
   "name": "python",
   "nbconvert_exporter": "python",
   "pygments_lexer": "ipython3",
   "version": "3.8.5"
  }
 },
 "nbformat": 4,
 "nbformat_minor": 4
}
