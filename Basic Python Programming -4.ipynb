{
 "cells": [
  {
   "cell_type": "markdown",
   "metadata": {},
   "source": [
    "1.Write a Python Program to Find the Factorial of a Number?"
   ]
  },
  {
   "cell_type": "code",
   "execution_count": 1,
   "metadata": {},
   "outputs": [
    {
     "name": "stdout",
     "output_type": "stream",
     "text": [
      "Enter the Number you want  factorial of 23\n",
      "the factorial of 23 : 25852016738884976640000\n"
     ]
    }
   ],
   "source": [
    "import math\n",
    "\n",
    "Number = int(input(\"Enter the Number you want  factorial of \"))\n",
    "\n",
    "output= math.factorial(Number)\n",
    "\n",
    "print(f\"the factorial of {Number} : {output}\")\n"
   ]
  },
  {
   "cell_type": "markdown",
   "metadata": {},
   "source": [
    "2.Write a Python Program to Display the multiplication Table?"
   ]
  },
  {
   "cell_type": "code",
   "execution_count": 11,
   "metadata": {},
   "outputs": [
    {
     "name": "stdout",
     "output_type": "stream",
     "text": [
      "Enter the Number you want  table  of 2\n",
      "Enter the limit till you  want  table  for 10\n",
      "2*1 = 2\n",
      "2*2 = 4\n",
      "2*3 = 6\n",
      "2*4 = 8\n",
      "2*5 = 10\n",
      "2*6 = 12\n",
      "2*7 = 14\n",
      "2*8 = 16\n",
      "2*9 = 18\n",
      "2*10 = 20\n",
      "------------------------------------------------------------\n"
     ]
    }
   ],
   "source": [
    "Number = int(input(\"Enter the Number you want  table  of \"))\n",
    "Limit=  int(input(\"Enter the limit till you  want  table  for \"))\n",
    "\n",
    "for i in range (1, Limit+1):\n",
    "        Ans= Number*i;\n",
    "        print(f\"{Number}*{i} = {Ans}\")\n",
    "        \n",
    "print(\"-\"*60)"
   ]
  },
  {
   "cell_type": "markdown",
   "metadata": {},
   "source": [
    "3.Write a Python Program to Print the Fibonacci sequence"
   ]
  },
  {
   "cell_type": "code",
   "execution_count": 2,
   "metadata": {},
   "outputs": [
    {
     "name": "stdout",
     "output_type": "stream",
     "text": [
      " Enter the Number for which till fibonacci series  7\n",
      "Fibonacci sequence:\n",
      "0\n",
      "1\n",
      "1\n",
      "2\n",
      "3\n",
      "5\n",
      "8\n"
     ]
    }
   ],
   "source": [
    "Number = int(input(f\" Enter the Number for which till fibonacci series  \"))\n",
    "\n",
    "n1, n2 = 0, 1\n",
    "count = 0\n",
    "\n",
    "if Number <= 0:\n",
    "   print(\"Please enter a positive integer\")\n",
    "elif Number == 1:\n",
    "   print(\"Fibonacci sequence upto\",Number,\":\")\n",
    "   print(n1)\n",
    "else:\n",
    "   print(\"Fibonacci sequence:\")\n",
    "   while count < Number:\n",
    "       print(n1)\n",
    "       nth = n1 + n2\n",
    "       n1 = n2\n",
    "       n2 = nth\n",
    "       count += 1"
   ]
  },
  {
   "cell_type": "markdown",
   "metadata": {},
   "source": [
    "4.Write a Python Program to Check Armstrong Number"
   ]
  },
  {
   "cell_type": "code",
   "execution_count": 5,
   "metadata": {},
   "outputs": [
    {
     "name": "stdout",
     "output_type": "stream",
     "text": [
      "Enter a number: 123\n",
      "12\n",
      "1\n",
      "0\n",
      "123 is not an Armstrong number\n"
     ]
    }
   ],
   "source": [
    "\n",
    "Number = int(input(\"Enter a number: \"))\n",
    "\n",
    "sum = 0\n",
    "\n",
    "temp = Number\n",
    "while temp > 0:\n",
    "   digit = temp % 10\n",
    "   sum += digit ** 3\n",
    "   temp //= 10\n",
    "   print(temp)\n",
    "\n",
    "\n",
    "if Number == sum:\n",
    "   print(f\"{Number}is an Armstrong number\")\n",
    "   p\n",
    "else:\n",
    "   print(f\"{Number} is not an Armstrong number\")\n",
    "             "
   ]
  },
  {
   "cell_type": "markdown",
   "metadata": {},
   "source": [
    "5.Write a Python Program to Find Armstrong Number in an Interval"
   ]
  },
  {
   "cell_type": "code",
   "execution_count": 11,
   "metadata": {},
   "outputs": [
    {
     "name": "stdout",
     "output_type": "stream",
     "text": [
      "Enter a Interval: 200\n",
      "153is an Armstrong number\n"
     ]
    }
   ],
   "source": [
    "interval_lower_limit = 2\n",
    "interval_upper_limit = int(input(\"Enter a Interval: \"))\n",
    "\n",
    "for i in range (interval_lower_limit,interval_upper_limit+1):\n",
    "    sum = 0 \n",
    "    temp = i \n",
    "    while temp > 0: \n",
    "        digit = temp % 10 \n",
    "        sum += digit ** 3 \n",
    "        temp //= 10\n",
    "\n",
    "    if i == sum:\n",
    "       print(f\"{i}is an Armstrong number\")"
   ]
  },
  {
   "cell_type": "markdown",
   "metadata": {},
   "source": [
    "6.Write a Python Program to Find the Sum of Natural Numbers"
   ]
  },
  {
   "cell_type": "code",
   "execution_count": 18,
   "metadata": {},
   "outputs": [
    {
     "name": "stdout",
     "output_type": "stream",
     "text": [
      "Enter a number: 123\n",
      "The sum is 7626\n"
     ]
    }
   ],
   "source": [
    "# Sum of natural numbers up to num\n",
    "Number = int(input(\"Enter a number: \"))\n",
    "\n",
    "if Number < 0:\n",
    "   print(f\"Enter a positive Number{Number}\")\n",
    "else:\n",
    "   sum = 0\n",
    "   while(Number > 0):\n",
    "       sum += Number\n",
    "       Number -= 1\n",
    "   print(f\"The sum is {sum}\")"
   ]
  },
  {
   "cell_type": "code",
   "execution_count": null,
   "metadata": {},
   "outputs": [],
   "source": []
  }
 ],
 "metadata": {
  "kernelspec": {
   "display_name": "Python 3",
   "language": "python",
   "name": "python3"
  },
  "language_info": {
   "codemirror_mode": {
    "name": "ipython",
    "version": 3
   },
   "file_extension": ".py",
   "mimetype": "text/x-python",
   "name": "python",
   "nbconvert_exporter": "python",
   "pygments_lexer": "ipython3",
   "version": "3.8.5"
  }
 },
 "nbformat": 4,
 "nbformat_minor": 4
}
