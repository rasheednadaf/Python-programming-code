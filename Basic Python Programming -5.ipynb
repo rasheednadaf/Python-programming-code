{
 "cells": [
  {
   "cell_type": "markdown",
   "metadata": {},
   "source": [
    "1.\tWrite a Python Program to Find LCM?"
   ]
  },
  {
   "cell_type": "code",
   "execution_count": 12,
   "metadata": {},
   "outputs": [
    {
     "name": "stdout",
     "output_type": "stream",
     "text": [
      "Enter a number:41\n",
      "Enter a number:2\n",
      "82 is the LCM of 41 and2\n"
     ]
    }
   ],
   "source": [
    "number_1 = int(input(\"Enter a number:\"))\n",
    "number_2 = int(input(\"Enter a number:\"))\n",
    "if(number_1 > number_2 ):  \n",
    "    max= number_1\n",
    "else:\n",
    "    max= number_2\n",
    "while(True):\n",
    "    if(max % number_1 == 0 and max % number_2 == 0):   \n",
    "        print(f\"{max} is the LCM of {number_1} and{number_2}\")\n",
    "        break\n",
    "    max= max+ 1"
   ]
  },
  {
   "cell_type": "markdown",
   "metadata": {},
   "source": [
    "2.\tWrite a Python Program to Find HCF?"
   ]
  },
  {
   "cell_type": "code",
   "execution_count": 15,
   "metadata": {},
   "outputs": [
    {
     "name": "stdout",
     "output_type": "stream",
     "text": [
      "Enter a number:56\n",
      "Enter a number:48\n",
      "HCF of 56 and 48 : 8\n"
     ]
    }
   ],
   "source": [
    "import math\n",
    "\n",
    "number_1 = int(input(\"Enter a number:\"))\n",
    "number_2 = int(input(\"Enter a number:\"))\n",
    "result = math.gcd(number_1,number_2)\n",
    "\n",
    "print(f\"HCF of {number_1} and {number_2} : {result}\")"
   ]
  },
  {
   "cell_type": "markdown",
   "metadata": {},
   "source": [
    "3.\tWrite a Python Program to Convert Decimal to Binary, Octal and Hexadecimal?"
   ]
  },
  {
   "cell_type": "code",
   "execution_count": 18,
   "metadata": {},
   "outputs": [
    {
     "name": "stdout",
     "output_type": "stream",
     "text": [
      "Enter a number:344\n",
      "344 is in  the decimal form\n",
      "0b101011000 is the binary form of 344\n",
      "0o530 is the octal form of 344\n",
      "0x158 is the hexdecimal form of 344\n"
     ]
    }
   ],
   "source": [
    "number = int(input(\"Enter a number:\"))\n",
    "print(f\"{number} is in  the decimal form\" )\n",
    "print(f\"{bin(number)} is the binary form of {number}\")\n",
    "print(f\"{oct(number)} is the octal form of {number}\")\n",
    "print(f\"{hex(number)} is the hexdecimal form of {number}\")  "
   ]
  },
  {
   "cell_type": "markdown",
   "metadata": {},
   "source": [
    "4.\tWrite a Python Program To Find ASCII value of a character?"
   ]
  },
  {
   "cell_type": "code",
   "execution_count": 25,
   "metadata": {},
   "outputs": [
    {
     "name": "stdout",
     "output_type": "stream",
     "text": [
      "Enter a Charater:g\n",
      "The ASCII value of g : 103\n"
     ]
    }
   ],
   "source": [
    "Charater  = input(\"Enter a Charater:\")\n",
    "\n",
    "print(f\"The ASCII value of {Charater} : {ord(Charater)}\")"
   ]
  },
  {
   "cell_type": "markdown",
   "metadata": {},
   "source": [
    "5.\tWrite a Python Program to Make a Simple Calculator with 4 basic mathematical operations?"
   ]
  },
  {
   "cell_type": "code",
   "execution_count": 27,
   "metadata": {},
   "outputs": [
    {
     "name": "stdout",
     "output_type": "stream",
     "text": [
      "Please select operation -\n",
      "1. Add\n",
      "2. Subtract\n",
      "3. Multiply\n",
      "4. Divide\n",
      "\n",
      "Enter first number: 12\n",
      "Enter second number: 12\n",
      "Select operations options from above:1\n",
      "12 + 12 = 24\n"
     ]
    }
   ],
   "source": [
    " \n",
    "def add(number1, number2):\n",
    "    return number1 + number2\n",
    "  \n",
    "\n",
    "def subtract(number1, num2):\n",
    "    return number1 - number2\n",
    "  \n",
    "\n",
    "def multiply(number1, num2):\n",
    "    return number1 * number2\n",
    "  \n",
    "\n",
    "def divide(number1, num2):\n",
    "    return number1 / number2\n",
    "  \n",
    "print(\"Please select operation -\\n\" \\\n",
    "        \"1. Add\\n\" \\\n",
    "        \"2. Subtract\\n\" \\\n",
    "        \"3. Multiply\\n\" \\\n",
    "        \"4. Divide\\n\")\n",
    "  \n",
    "number_1 = int(input(\"Enter first number: \"))\n",
    "number_2 = int(input(\"Enter second number: \"))\n",
    "select = int(input(\"Select operations options from above:\"))\n",
    "  \n",
    "if select == 1:\n",
    "    print(number_1, \"+\", number_2, \"=\",\n",
    "                    add(number_1, number_2))\n",
    "  \n",
    "elif select == 2:\n",
    "    print(number_1, \"-\", number_2, \"=\",\n",
    "                    subtract(number_1, number_2))\n",
    "  \n",
    "elif select == 3:\n",
    "    print(number_1, \"*\", number_2, \"=\",\n",
    "                    multiply(number_1, number_2))\n",
    "  \n",
    "elif select == 4:\n",
    "    print(number_1, \"/\", number_2, \"=\",\n",
    "                    divide(number_1, number_2))\n",
    "else:\n",
    "    print(\"Invalid input\")"
   ]
  },
  {
   "cell_type": "code",
   "execution_count": null,
   "metadata": {},
   "outputs": [],
   "source": []
  }
 ],
 "metadata": {
  "kernelspec": {
   "display_name": "Python 3",
   "language": "python",
   "name": "python3"
  },
  "language_info": {
   "codemirror_mode": {
    "name": "ipython",
    "version": 3
   },
   "file_extension": ".py",
   "mimetype": "text/x-python",
   "name": "python",
   "nbconvert_exporter": "python",
   "pygments_lexer": "ipython3",
   "version": "3.8.5"
  }
 },
 "nbformat": 4,
 "nbformat_minor": 4
}
