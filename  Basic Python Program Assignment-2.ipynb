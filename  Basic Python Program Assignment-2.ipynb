{
 "cells": [
  {
   "cell_type": "markdown",
   "metadata": {},
   "source": [
    "1.Write a Python program to convert kilometers to miles?"
   ]
  },
  {
   "cell_type": "code",
   "execution_count": 7,
   "metadata": {},
   "outputs": [
    {
     "name": "stdout",
     "output_type": "stream",
     "text": [
      "Enter the distance in kilometer:  100\n",
      "The distance when converted from Kiolmeter to mile it is : 62.137100000000004 miles\n"
     ]
    }
   ],
   "source": [
    "distance_in_km = int(input(\"Enter the distance in kilometer:  \"))\n",
    "\n",
    "distance_in_miles = 0.621371 * distance_in_km\n",
    "\n",
    "print(f\"The distance when converted from Kiolmeter to mile it is : {distance_in_miles} miles\")"
   ]
  },
  {
   "cell_type": "markdown",
   "metadata": {},
   "source": [
    "2.Write a Python program to convert Celsius to Fahrenheit?"
   ]
  },
  {
   "cell_type": "code",
   "execution_count": 5,
   "metadata": {},
   "outputs": [
    {
     "name": "stdout",
     "output_type": "stream",
     "text": [
      "Enter the temperature  in celsius 50\n",
      "The temperature when converted from Celsius to Fahrenheit it is : 122.0 °F\n"
     ]
    }
   ],
   "source": [
    "temp_in_celsius = int(input(\"Enter the temperature  in celsius \"))\n",
    "\n",
    "temp_in_Fahrenheit = (temp_in_celsius * 9/5) + 32 \n",
    "\n",
    "print(f\"The temperature when converted from Celsius to Fahrenheit it is : {temp_in_Fahrenheit} °F\")"
   ]
  },
  {
   "cell_type": "markdown",
   "metadata": {},
   "source": [
    "3.Write a Python program to display calendar?"
   ]
  },
  {
   "cell_type": "code",
   "execution_count": 8,
   "metadata": {},
   "outputs": [
    {
     "name": "stdout",
     "output_type": "stream",
     "text": [
      "Enter the year:  2021\n",
      "Enter the month:  4\n",
      "     April 2021\n",
      "Mo Tu We Th Fr Sa Su\n",
      "          1  2  3  4\n",
      " 5  6  7  8  9 10 11\n",
      "12 13 14 15 16 17 18\n",
      "19 20 21 22 23 24 25\n",
      "26 27 28 29 30\n",
      "\n"
     ]
    }
   ],
   "source": [
    "import calendar\n",
    "\n",
    "year =  int(input(\"Enter the year:  \"))\n",
    "month = int(input(\"Enter the month:  \"))\n",
    "\n",
    "print(calendar.month(year, month))"
   ]
  },
  {
   "cell_type": "markdown",
   "metadata": {},
   "source": [
    "4.Write a Python program to solve quadratic equation?"
   ]
  },
  {
   "cell_type": "code",
   "execution_count": 5,
   "metadata": {},
   "outputs": [
    {
     "name": "stdout",
     "output_type": "stream",
     "text": [
      "Enter the value of a for quadratic equation :  1\n",
      "Enter the value of b for quadratic equation :  1\n",
      "Enter the value of c for quadratic equation :  1\n",
      "The quadratic equation is 1x^2+1x+1\n",
      "the roots are  have complex roots:\n",
      "the roots are (-0.5+0.8660254037844386j)and (-0.5-0.8660254037844386j)\n"
     ]
    }
   ],
   "source": [
    "import math\n",
    "import cmath\n",
    "\n",
    "a =  int(input(\"Enter the value of a for quadratic equation :  \"))\n",
    "b =  int(input(\"Enter the value of b for quadratic equation :  \"))\n",
    "c =  int(input(\"Enter the value of c for quadratic equation :  \"))\n",
    "\n",
    "print(f\"The quadratic equation is {a}x^2+{b}x+{c}\")\n",
    "\n",
    "value = b*b-4*a*c\n",
    "sqar_value = math.sqrt(abs(value))\n",
    "complex_sqar_value = cmath.sqrt((value))\n",
    " \n",
    "if value > 0:\n",
    "    print(\"the  roots of real and diffeerent: \")\n",
    "    print(f\"the roots are {((-b+sqar_value)/(2*a))}and {((-b-sqar_vSalue)/(2*a))}\")\n",
    "    \n",
    "elif value ==0:\n",
    "    print (\" The roots are same and real:\")\n",
    "    print(f\"the roots are {-b/(2*a)}\")\n",
    "\n",
    "else:\n",
    "    print(\"the roots are  have complex roots:\")\n",
    "    print(f\"the roots are {((-b+complex_sqar_value)/(2*a))}and {((-b-complex_sqar_value)/(2*a))}\")   \n"
   ]
  },
  {
   "cell_type": "markdown",
   "metadata": {},
   "source": [
    "5.Write a Python program to swap two variables without temp variable?"
   ]
  },
  {
   "cell_type": "code",
   "execution_count": 10,
   "metadata": {},
   "outputs": [
    {
     "name": "stdout",
     "output_type": "stream",
     "text": [
      "Enter the value of a  :  12\n",
      "Enter the value of b  :  14\n",
      "value of a is : 14\n",
      "value of b is : 12\n"
     ]
    }
   ],
   "source": [
    "a =  int(input(\"Enter the value of a  :  \"))\n",
    "b =  int(input(\"Enter the value of b  :  \"))\n",
    "\n",
    "a =a + b\n",
    "b= a - b\n",
    "a= a-b\n",
    "\n",
    "print(f\"value of a is : {a}\")\n",
    "print(f\"value of b is : {b}\")"
   ]
  },
  {
   "cell_type": "code",
   "execution_count": null,
   "metadata": {},
   "outputs": [],
   "source": []
  }
 ],
 "metadata": {
  "kernelspec": {
   "display_name": "Python 3",
   "language": "python",
   "name": "python3"
  },
  "language_info": {
   "codemirror_mode": {
    "name": "ipython",
    "version": 3
   },
   "file_extension": ".py",
   "mimetype": "text/x-python",
   "name": "python",
   "nbconvert_exporter": "python",
   "pygments_lexer": "ipython3",
   "version": "3.8.5"
  }
 },
 "nbformat": 4,
 "nbformat_minor": 4
}
