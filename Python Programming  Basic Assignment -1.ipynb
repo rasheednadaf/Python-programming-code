{
 "cells": [
  {
   "cell_type": "markdown",
   "metadata": {},
   "source": [
    "1.\tWrite a Python program to print \"Hello Python\"?"
   ]
  },
  {
   "cell_type": "code",
   "execution_count": 1,
   "metadata": {},
   "outputs": [
    {
     "name": "stdout",
     "output_type": "stream",
     "text": [
      "Hello Python\n"
     ]
    }
   ],
   "source": [
    "print(\"Hello Python\")"
   ]
  },
  {
   "cell_type": "markdown",
   "metadata": {},
   "source": [
    "2.Write a Python program to do arithmetical operations addition and division.?"
   ]
  },
  {
   "cell_type": "code",
   "execution_count": 8,
   "metadata": {},
   "outputs": [
    {
     "name": "stdout",
     "output_type": "stream",
     "text": [
      "Addition of x and y is : 30\n",
      "division of x and y is : 0.5\n"
     ]
    }
   ],
   "source": [
    "x = 10\n",
    "y = 20\n",
    "z = x/y\n",
    "w = x+y\n",
    "\n",
    "print(f\"Addition of x and y is : {w}\")\n",
    "print(f\"division of x and y is : {z}\")\n"
   ]
  },
  {
   "cell_type": "markdown",
   "metadata": {},
   "source": [
    "3.Write a Python program to find the area of a triangle?"
   ]
  },
  {
   "cell_type": "code",
   "execution_count": 9,
   "metadata": {},
   "outputs": [
    {
     "name": "stdout",
     "output_type": "stream",
     "text": [
      "Enter the base of the triangle 20\n",
      "Enter the height of the triangle 10\n",
      "The area of Traingle is 100.0\n"
     ]
    }
   ],
   "source": [
    "Base = int(input(\"Enter the base of the triangle \"))\n",
    "Height= int(input(\"Enter the height of the triangle \"))\n",
    "\n",
    "Area= (0.5)*Base*Height\n",
    "\n",
    "print(f\"The area of Traingle is {Area}\")"
   ]
  },
  {
   "cell_type": "markdown",
   "metadata": {},
   "source": [
    "4.Write a Python program to swap two variables?"
   ]
  },
  {
   "cell_type": "code",
   "execution_count": 10,
   "metadata": {},
   "outputs": [
    {
     "name": "stdout",
     "output_type": "stream",
     "text": [
      "Enter the value of a is : 10\n",
      "Enter the value of b is : 20\n",
      "The value of a is: 20\n",
      "The value of b is: 10\n"
     ]
    }
   ],
   "source": [
    "a = int(input(\"Enter the value of a is : \"))\n",
    "b = int(input(\"Enter the value of b is : \"))\n",
    "\n",
    "x = a\n",
    "a = b\n",
    "b = x\n",
    "\n",
    "print(f\"The value of a is: {a}\")\n",
    "print(f\"The value of b is: {b}\")"
   ]
  },
  {
   "cell_type": "markdown",
   "metadata": {},
   "source": [
    "5.Write a Python program to generate a random number?"
   ]
  },
  {
   "cell_type": "code",
   "execution_count": 11,
   "metadata": {},
   "outputs": [
    {
     "name": "stdout",
     "output_type": "stream",
     "text": [
      " the random number between 40 and 80 is : 58\n"
     ]
    }
   ],
   "source": [
    "import random\n",
    "\n",
    "a = random.randint(40, 80)\n",
    "\n",
    "print(f\" the random number between 40 and 80 is : {a}\")"
   ]
  },
  {
   "cell_type": "code",
   "execution_count": null,
   "metadata": {},
   "outputs": [],
   "source": []
  }
 ],
 "metadata": {
  "kernelspec": {
   "display_name": "Python 3",
   "language": "python",
   "name": "python3"
  },
  "language_info": {
   "codemirror_mode": {
    "name": "ipython",
    "version": 3
   },
   "file_extension": ".py",
   "mimetype": "text/x-python",
   "name": "python",
   "nbconvert_exporter": "python",
   "pygments_lexer": "ipython3",
   "version": "3.8.5"
  }
 },
 "nbformat": 4,
 "nbformat_minor": 4
}
